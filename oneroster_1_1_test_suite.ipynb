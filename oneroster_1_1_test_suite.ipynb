{
  "nbformat": 4,
  "nbformat_minor": 0,
  "metadata": {
    "colab": {
      "provenance": []
    },
    "kernelspec": {
      "name": "python3",
      "display_name": "Python 3"
    },
    "language_info": {
      "name": "python"
    }
  },
  "cells": [
    {
      "cell_type": "markdown",
      "source": [
        "Copyright 2023 Google LLC.\n",
        "\n",
        "SPDX-License-Identifier: Apache-2.0\n"
      ],
      "metadata": {
        "id": "PhV1eoFWhd9Z"
      }
    },
    {
      "cell_type": "code",
      "source": [
        "#@title License\n",
        "# Licensed under the Apache License, Version 2.0 (the \"License\");\n",
        "# you may not use this file except in compliance with the License.\n",
        "# You may obtain a copy of the License at\n",
        "#\n",
        "# https://www.apache.org/licenses/LICENSE-2.0\n",
        "#\n",
        "# Unless required by applicable law or agreed to in writing, software\n",
        "# distributed under the License is distributed on an \"AS IS\" BASIS,\n",
        "# WITHOUT WARRANTIES OR CONDITIONS OF ANY KIND, either express or implied.\n",
        "# See the License for the specific language governing permissions and\n",
        "# limitations under the License."
      ],
      "metadata": {
        "id": "hSmn9lPfhzTf",
        "cellView": "form"
      },
      "execution_count": null,
      "outputs": []
    },
    {
      "cell_type": "markdown",
      "source": [
        "# **OneRoster Integration Conformance Tests**"
      ],
      "metadata": {
        "id": "L752xU_BWtb9"
      }
    },
    {
      "cell_type": "markdown",
      "source": [
        "\n",
        "Self link: [Run in Colab](https://colab.research.google.com/github/googleworkspace/oneroster-integration-conformance-tests/blob/main/oneroster_1_1_test_suite.ipynb)![colab](https://cloud.google.com/ml-engine/images/colab-logo-32px.png)"
      ],
      "metadata": {
        "id": "84x5E49Kc_sT"
      }
    },
    {
      "cell_type": "markdown",
      "source": [
        "# **Before you begin**\n",
        "\n",
        "While you are familiarizing yourself with the tests, it might be helpful to run each cell individually. However, when you are ready to submit results to Google, it is preferable to run all of the tests at once for a fully generated test report. Both Colab and Jupyter notebook allow you to run all cells.\n",
        "\n",
        "The report generated will include a report_card table that will hold the results of each test and a latency_report table that will hold the latency data for each API call. These are the tables that should be submitted to classroom-sis-external@google.com after all the tests are run."
      ],
      "metadata": {
        "id": "qZBBAK9RdsqL"
      }
    },
    {
      "cell_type": "markdown",
      "source": [
        "## Setup\n",
        "\n",
        "Before you run the tests, you will need to include the following in the “Enter credentials” code block:\n",
        "\n",
        "* Token url to retrieve OAuth 2 credentials\n",
        "* One Roster URL ending in \"/ims/oneroster/v1p1\"\n",
        "* Client ID\n",
        "* Client secret\n",
        "\n",
        "You will need to enter the following in the \"GetAllTeachers with email filter\" code block:\n",
        "\n",
        "* A teacher email address"
      ],
      "metadata": {
        "id": "2H755ZateMhW"
      }
    },
    {
      "cell_type": "markdown",
      "source": [
        "# **Basic Grade Sync** [Required]\n",
        "\n",
        "For best experience, run all at once using ctrl+F9 or `run all` from runtime menu."
      ],
      "metadata": {
        "id": "6pjkucASInNa"
      }
    },
    {
      "cell_type": "code",
      "source": [
        "#@title Enter Credentials\n",
        "token_url = input(\"Enter token URL: \")\n",
        "one_roster_url = input(\n",
        "    \"Enter OneRoster URL (ending in /ims/oneroster/v1p1): \")\n",
        "client_id = input(\"Enter your client id: \")\n",
        "client_secret = input(\"Enter your client secret: \")"
      ],
      "metadata": {
        "id": "cqWB_jvr1ene"
      },
      "execution_count": null,
      "outputs": []
    },
    {
      "cell_type": "code",
      "source": [
        "#@title Setup\n",
        "from datetime import datetime, timedelta\n",
        "import json\n",
        "import sys\n",
        "import uuid\n",
        "import requests\n",
        "from tabulate import tabulate\n",
        "\n",
        "report_card = {}\n",
        "latency_report = {}\n",
        "test_headers = [\"Test\", \"Result\"]\n",
        "test_success = \"pass\"\n",
        "test_fail = \"FAIL\""
      ],
      "metadata": {
        "id": "M1LlyWKDplcR",
        "cellView": "form"
      },
      "execution_count": null,
      "outputs": []
    },
    {
      "cell_type": "code",
      "execution_count": null,
      "metadata": {
        "id": "6f21gL2UyPW1",
        "cellView": "form"
      },
      "outputs": [],
      "source": [
        "#@title Get OAuth Token\n",
        "payload = \"grant_type=client_credentials\"\n",
        "headers = {\"Content-Type\": \"application/x-www-form-urlencoded\"}\n",
        "auth = requests.auth.HTTPBasicAuth(client_id, client_secret)\n",
        "\n",
        "response = requests.request(\n",
        "    \"POST\", token_url, auth=auth, headers=headers, data=payload\n",
        ")\n",
        "latency_report[\"Get OAuth Token\"] = response.elapsed.microseconds / 1000\n",
        "\n",
        "tests = []\n",
        "if response.status_code == 200:\n",
        "  oauth_token = response.json()[\"access_token\"]\n",
        "  request_headers = {\"Authorization\": \"Bearer \" + oauth_token}\n",
        "  put_request_headers = {\n",
        "      \"Content-Type\": \"application/json\",\n",
        "      \"Authorization\": \"Bearer \" + oauth_token,\n",
        "  }\n",
        "\n",
        "  print(f\"OAuth token retrieved: {oauth_token}\\n\")\n",
        "  tests.append((\"Status code 200\", test_success))\n",
        "else:\n",
        "  print(json.dumps(response.json(), indent=2))\n",
        "  sys.exit()\n",
        "\n",
        "\n",
        "print(tabulate(tests, headers=test_headers))\n",
        "\n",
        "report_card[\"Get OAuth Token\"] = tests"
      ]
    },
    {
      "cell_type": "code",
      "source": [
        "#@title GetAllTeachers\n",
        "url = one_roster_url + \"/teachers?limit=1\"\n",
        "\n",
        "response = requests.request(\"GET\", url, headers=request_headers)\n",
        "latency_report[\"GetAllTeachers\"] = response.elapsed.microseconds / 1000\n",
        "\n",
        "tests = []\n",
        "if response.status_code == 200:\n",
        "  tests.append((\"Status code 200\", test_success))\n",
        "else:\n",
        "  tests.append((\"Status code 200\", test_fail))\n",
        "  print(json.dumps(response.json(), indent=2))\n",
        "\n",
        "\n",
        "print(tabulate(tests, headers=test_headers))\n",
        "\n",
        "report_card[\"GetAllTeachers\"] = tests"
      ],
      "metadata": {
        "id": "4CwYUgoGz38r",
        "cellView": "form"
      },
      "execution_count": null,
      "outputs": []
    },
    {
      "cell_type": "code",
      "source": [
        "#@title GetAllTeachers with email filter\n",
        "teacher_email_address = \"\"  # @param {type:\"string\"}\n",
        "url = f\"{one_roster_url}/teachers?filter=email='{teacher_email_address}'&limit=10000\"\n",
        "\n",
        "response = requests.request(\"GET\", url, headers=request_headers)\n",
        "latency_report[\"GetAllTeachers w/ email filter\"] = (\n",
        "    response.elapsed.microseconds / 1000\n",
        ")\n",
        "data = response.json()\n",
        "\n",
        "tests = []\n",
        "if response.status_code == 200:\n",
        "  tests.append((\"Status code 200\", test_success))\n",
        "\n",
        "  if len(data[\"users\"]) == 1 and data[\"users\"][0].keys() >= {\n",
        "      \"email\",\n",
        "      \"sourcedId\",\n",
        "  }:\n",
        "    teacher_sourced_id = data[\"users\"][0][\"sourcedId\"]\n",
        "    tests.append((\"Validate teacher\", test_success))\n",
        "  else:\n",
        "    tests.append((\"Validate teacher\", test_fail))\n",
        "else:\n",
        "  tests.append((\"Status code 200\", test_fail))\n",
        "  print(json.dumps(data, indent=2))\n",
        "\n",
        "\n",
        "print(tabulate(tests, headers=test_headers))\n",
        "\n",
        "report_card[\"GetAllTeachers w/ email filter\"] = tests"
      ],
      "metadata": {
        "id": "YWEauNHpQxM5",
        "cellView": "form"
      },
      "execution_count": null,
      "outputs": []
    },
    {
      "cell_type": "code",
      "source": [
        "#@title GetClassesForTeacher\n",
        "url = f\"{one_roster_url}/teachers/{teacher_sourced_id}/classes?limit=10000\"\n",
        "\n",
        "response = requests.request(\"GET\", url, headers=request_headers)\n",
        "latency_report[\"GetClassesForTeacher\"] = response.elapsed.microseconds / 1000\n",
        "data = response.json()\n",
        "\n",
        "tests = []\n",
        "if response.status_code == 200:\n",
        "  class_sourced_id = data[\"classes\"][0][\"sourcedId\"]\n",
        "  tests.append((\"Status code 200\", test_success))\n",
        "else:\n",
        "  tests.append((\"Status code 200\", test_fail))\n",
        "  print(json.dumps(data, indent=2))\n",
        "\n",
        "\n",
        "print(tabulate(tests, headers=test_headers))\n",
        "\n",
        "report_card[\"GetClassesForTeacher\"] = tests"
      ],
      "metadata": {
        "id": "nMNNS6GLuFnw",
        "cellView": "form"
      },
      "execution_count": null,
      "outputs": []
    },
    {
      "cell_type": "code",
      "source": [
        "#@title GetStudentsForClass\n",
        "url = f\"{one_roster_url}/classes/{class_sourced_id}/students?limit=10000\"\n",
        "\n",
        "response = requests.request(\"GET\", url, headers=request_headers)\n",
        "latency_report[\"GetStudentsForClass\"] = response.elapsed.microseconds / 1000\n",
        "data = response.json()\n",
        "\n",
        "tests = []\n",
        "if response.status_code == 200:\n",
        "  tests.append((\"Status code 200\", test_success))\n",
        "\n",
        "  if data[\"users\"][0].keys() >= {\"email\", \"sourcedId\"}:\n",
        "    student_sourced_id = data[\"users\"][0][\"sourcedId\"]\n",
        "    tests.append((\"Validate student\", test_success))\n",
        "  else:\n",
        "    tests.append((\"Validate student\", test_fail))\n",
        "else:\n",
        "  tests.append((\"Status code 200\", test_fail))\n",
        "  print(json.dumps(data, indent=2))\n",
        "\n",
        "\n",
        "print(tabulate(tests, headers=test_headers))\n",
        "\n",
        "report_card[\"GetStudentsForClass\"] = tests"
      ],
      "metadata": {
        "id": "7gIwq3jNuF2p",
        "cellView": "form"
      },
      "execution_count": null,
      "outputs": []
    },
    {
      "cell_type": "code",
      "source": [
        "#@title PutLineItem Create\n",
        "line_item_sourced_id = str(uuid.uuid4())\n",
        "now = datetime.utcnow()\n",
        "assign_date = now.strftime(\"%Y-%m-%dT%H:%M:%S.%f\")[:-3] + \"Z\"\n",
        "due_date = (now + timedelta(minutes=1)).strftime(\"%Y-%m-%dT%H:%M:%S.%f\")[\n",
        "    :-3\n",
        "] + \"Z\"\n",
        "\n",
        "url = f\"{one_roster_url}/lineItems/{line_item_sourced_id}\"\n",
        "\n",
        "payload = json.dumps(\n",
        "    {\n",
        "        \"lineItem\": {\n",
        "            \"sourcedId\": line_item_sourced_id,\n",
        "            \"title\": \"Google Test Line Item Title\",\n",
        "            \"description\": \"Test Line Item\",\n",
        "            \"resultValueMin\": 0,\n",
        "            \"resultValueMax\": 100,\n",
        "            \"assignDate\": assign_date,\n",
        "            \"dueDate\": due_date,\n",
        "            \"class\": {\"sourcedId\": class_sourced_id},\n",
        "        }\n",
        "    }\n",
        ")\n",
        "\n",
        "response = requests.request(\n",
        "    \"PUT\", url, headers=put_request_headers, data=payload\n",
        ")\n",
        "latency_report[\"PutLineItem Create\"] = response.elapsed.microseconds / 1000\n",
        "\n",
        "tests = []\n",
        "if response.status_code == 201:\n",
        "  tests.append((\"Status code 201\", test_success))\n",
        "  print(f\"Created line item with sourced ID {line_item_sourced_id}\\n\")\n",
        "else:\n",
        "  tests.append((\"Status code 201\", test_fail))\n",
        "  print(json.dumps(response.json(), indent=2))\n",
        "\n",
        "\n",
        "print(tabulate(tests, headers=test_headers))\n",
        "\n",
        "report_card[\"PutLineItem Create\"] = tests"
      ],
      "metadata": {
        "id": "YjYY7llQuF9X",
        "cellView": "form"
      },
      "execution_count": null,
      "outputs": []
    },
    {
      "cell_type": "code",
      "source": [
        "#@title GetLineItemsForClass\n",
        "url = f\"{one_roster_url}/classes/{class_sourced_id}/lineItems?limit=10000\"\n",
        "\n",
        "response = requests.request(\"GET\", url, headers=request_headers)\n",
        "latency_report[\"GetLineItemsForClass\"] = response.elapsed.microseconds / 1000\n",
        "data = response.json()\n",
        "\n",
        "tests = []\n",
        "if response.status_code == 200:\n",
        "  tests.append((\"Status code 200\", test_success))\n",
        "\n",
        "  if any(sd[\"sourcedId\"] == line_item_sourced_id for sd in data[\"lineItems\"]):\n",
        "    tests.append((\"Get created line item\", test_success))\n",
        "  else:\n",
        "    tests.append((\"Get created line item\", test_fail))\n",
        "else:\n",
        "  tests.append((\"Status code 200\", test_fail))\n",
        "  print(json.dumps(response.json(), indent=2))\n",
        "\n",
        "\n",
        "print(tabulate(tests, headers=test_headers))\n",
        "\n",
        "report_card[\"GetLineItemsForClass\"] = tests"
      ],
      "metadata": {
        "id": "Sy0zdliRuF_7",
        "cellView": "form"
      },
      "execution_count": null,
      "outputs": []
    },
    {
      "cell_type": "code",
      "source": [
        "#@title PutLineItem Edit\n",
        "url = f\"{one_roster_url}/lineItems/{line_item_sourced_id}\"\n",
        "\n",
        "payload = json.dumps(\n",
        "    {\n",
        "        \"lineItem\": {\n",
        "            \"sourcedId\": line_item_sourced_id,\n",
        "            \"title\": (\n",
        "                \"[Amended]\"\n",
        "                \" Reallllllllllllllllllllllllllllllllllllllllllllllllllllllllllllllllly\"\n",
        "                \" Long Google Test Line Item Title\"\n",
        "            ),\n",
        "            \"description\": \"Test Line Item\",\n",
        "            \"resultValueMin\": 0,\n",
        "            \"resultValueMax\": 100,\n",
        "            \"assignDate\": assign_date,\n",
        "            \"dueDate\": due_date,\n",
        "            \"class\": {\"sourcedId\": class_sourced_id},\n",
        "        }\n",
        "    }\n",
        ")\n",
        "\n",
        "response = requests.request(\n",
        "    \"PUT\", url, headers=put_request_headers, data=payload\n",
        ")\n",
        "latency_report[\"PutLineItem Edit\"] = response.elapsed.microseconds / 1000\n",
        "\n",
        "tests = []\n",
        "if response.status_code == 200 or response.status_code == 201:\n",
        "  tests.append((\"Status code 200/201\", test_success))\n",
        "else:\n",
        "  tests.append((\"Status code 200/201\", test_fail))\n",
        "  print(json.dumps(response.json(), indent=2))\n",
        "\n",
        "\n",
        "print(tabulate(tests, headers=test_headers))\n",
        "\n",
        "if response.status_code == 201:\n",
        "  print(\"\\nINFO: Modifying existing resource should return status code 200\")\n",
        "\n",
        "report_card[\"PutLineItem Edit\"] = tests"
      ],
      "metadata": {
        "id": "9ilClVr3uGCw",
        "cellView": "form"
      },
      "execution_count": null,
      "outputs": []
    },
    {
      "cell_type": "code",
      "source": [
        "#@title GetLineItemsForClass (Assignment Title Limit)\n",
        "url = f\"{one_roster_url}/classes/{class_sourced_id}/lineItems?limit=10000\"\n",
        "\n",
        "response = requests.request(\"GET\", url, headers=request_headers)\n",
        "latency_report[\"GetLineItemsForClass: Assignment Title Limit\"] = (\n",
        "    response.elapsed.microseconds / 1000\n",
        ")\n",
        "data = response.json()\n",
        "\n",
        "tests = []\n",
        "if response.status_code == 200:\n",
        "  tests.append((\"Status code 200\", test_success))\n",
        "\n",
        "  for d in data[\"lineItems\"]:\n",
        "    if d[\"sourcedId\"] == line_item_sourced_id:\n",
        "      if d:\n",
        "        tests.append((\"Line item title limit\", len(d[\"title\"])))\n",
        "      else:\n",
        "        tests.append((\"Line item exists\", test_fail))\n",
        "        print(json.dumps(d, indent=2))\n",
        "      break\n",
        "else:\n",
        "  tests.append((\"Status code 200\", test_fail))\n",
        "  print(json.dumps(data, indent=2))\n",
        "\n",
        "\n",
        "print(tabulate(tests, headers=test_headers))\n",
        "\n",
        "report_card[\"Assignment Title Limit\"] = tests"
      ],
      "metadata": {
        "id": "SG6wXqBduGEl",
        "cellView": "form"
      },
      "execution_count": null,
      "outputs": []
    },
    {
      "cell_type": "code",
      "source": [
        "#@title PutResult Create\n",
        "result_sourced_id = str(uuid.uuid4())\n",
        "\n",
        "url = f\"{one_roster_url}/results/{result_sourced_id}\"\n",
        "\n",
        "payload = json.dumps(\n",
        "    {\n",
        "        \"result\": {\n",
        "            \"sourcedId\": result_sourced_id,\n",
        "            \"score\": 80,\n",
        "            \"comment\": \"\",\n",
        "            \"scoreStatus\": \"fully graded\",\n",
        "            \"scoreDate\": assign_date,\n",
        "            \"lineItem\": {\"sourcedId\": line_item_sourced_id},\n",
        "            \"student\": {\"sourcedId\": student_sourced_id},\n",
        "        }\n",
        "    }\n",
        ")\n",
        "\n",
        "response = requests.request(\n",
        "    \"PUT\", url, headers=put_request_headers, data=payload\n",
        ")\n",
        "latency_report[\"PutResult Create\"] = response.elapsed.microseconds / 1000\n",
        "\n",
        "tests = []\n",
        "if response.status_code == 201:\n",
        "  tests.append((\"Status code 201\", test_success))\n",
        "  print(f\"Created result with sourced ID {result_sourced_id}\\n\")\n",
        "else:\n",
        "  tests.append((\"Status code 201\", test_fail))\n",
        "  print(json.dumps(response.json(), indent=2))\n",
        "\n",
        "\n",
        "print(tabulate(tests, headers=test_headers))\n",
        "\n",
        "report_card[\"PutResult Create\"] = tests"
      ],
      "metadata": {
        "id": "Fysf1yO7uGGe",
        "cellView": "form"
      },
      "execution_count": null,
      "outputs": []
    },
    {
      "cell_type": "code",
      "source": [
        "#@title GetResultsForLineItem\n",
        "url = f\"{one_roster_url}/classes/{class_sourced_id}/lineItems/{line_item_sourced_id}/results?limit=10000\"\n",
        "\n",
        "response = requests.request(\"GET\", url, headers=request_headers)\n",
        "latency_report[\"GetResultsForLineItem\"] = response.elapsed.microseconds / 1000\n",
        "data = response.json()\n",
        "\n",
        "tests = []\n",
        "if response.status_code == 200:\n",
        "  tests.append((\"Status code 200\", test_success))\n",
        "\n",
        "  if any(sd[\"sourcedId\"] == result_sourced_id for sd in data[\"results\"]):\n",
        "    tests.append((\"Get created result\", test_success))\n",
        "  else:\n",
        "    tests.append((\"Get created result\", test_fail))\n",
        "else:\n",
        "  tests.append((\"Status code 200\", test_fail))\n",
        "  print(json.dumps(data, indent=2))\n",
        "\n",
        "\n",
        "print(tabulate(tests, headers=test_headers))\n",
        "\n",
        "report_card[\"GetResultsForLineItem\"] = tests"
      ],
      "metadata": {
        "id": "UTXoVNm1uGIr",
        "cellView": "form"
      },
      "execution_count": null,
      "outputs": []
    },
    {
      "cell_type": "code",
      "source": [
        "#@title PutResult Edit\n",
        "url = f\"{one_roster_url}/results/{result_sourced_id}\"\n",
        "\n",
        "payload = json.dumps(\n",
        "    {\n",
        "        \"result\": {\n",
        "            \"sourcedId\": result_sourced_id,\n",
        "            \"score\": 300,\n",
        "            \"comment\": \"\",\n",
        "            \"scoreStatus\": \"fully graded\",\n",
        "            \"scoreDate\": assign_date,\n",
        "            \"lineItem\": {\"sourcedId\": line_item_sourced_id},\n",
        "            \"student\": {\"sourcedId\": student_sourced_id},\n",
        "        }\n",
        "    }\n",
        ")\n",
        "\n",
        "response = requests.request(\n",
        "    \"PUT\", url, headers=put_request_headers, data=payload\n",
        ")\n",
        "latency_report[\"PutResult Edit\"] = response.elapsed.microseconds / 1000\n",
        "\n",
        "tests = []\n",
        "if response.status_code == 200 or response.status_code == 201:\n",
        "  tests.append((\"Status code 200/201\", test_success))\n",
        "else:\n",
        "  tests.append((\"Status code 200/201\", test_fail))\n",
        "  print(json.dumps(response.json(), indent=2))\n",
        "\n",
        "\n",
        "print(tabulate(tests, headers=test_headers))\n",
        "\n",
        "if response.status_code == 201:\n",
        "  print(\"\\nINFO: Modifying existing resource should return status code 200\")\n",
        "\n",
        "report_card[\"PutResult Edit\"] = tests"
      ],
      "metadata": {
        "id": "6wnqnPW2uGOx",
        "cellView": "form"
      },
      "execution_count": null,
      "outputs": []
    },
    {
      "cell_type": "code",
      "source": [
        "#@title GetResultsForLineItem (Extra Credit)\n",
        "url = f\"{one_roster_url}/classes/{class_sourced_id}/lineItems/{line_item_sourced_id}/results?limit=10000\"\n",
        "\n",
        "response = requests.request(\"GET\", url, headers=request_headers)\n",
        "latency_report[\"GetResultsForLineItem Extra Credit\"] = (\n",
        "    response.elapsed.microseconds / 1000\n",
        ")\n",
        "data = response.json()\n",
        "\n",
        "tests = []\n",
        "if response.status_code == 200:\n",
        "  tests.append((\"Status code 200\", test_success))\n",
        "else:\n",
        "  tests.append((\"Status code 200\", test_fail))\n",
        "  print(json.dumps(data, indent=2))\n",
        "\n",
        "for r in data[\"results\"]:\n",
        "  if r[\"sourcedId\"] == result_sourced_id:\n",
        "    if r[\"score\"] == 300:\n",
        "      tests.append((\"Result extra credit OK\", test_success))\n",
        "    else:\n",
        "      tests.append((\"Result extra credit OK\", test_fail))\n",
        "      print(json.dumps(r, indent=2))\n",
        "    break\n",
        "\n",
        "\n",
        "print(tabulate(tests, headers=test_headers))\n",
        "\n",
        "report_card[\"Result Extra Credit\"] = tests"
      ],
      "metadata": {
        "id": "pz9_KzOrjRsS",
        "cellView": "form"
      },
      "execution_count": null,
      "outputs": []
    },
    {
      "cell_type": "code",
      "source": [
        "#@title DeleteResult\n",
        "url = f\"{one_roster_url}/results/{result_sourced_id}\"\n",
        "\n",
        "response = requests.request(\"DELETE\", url, headers=request_headers)\n",
        "\n",
        "tests = []\n",
        "if response.status_code == 200 or response.status_code == 204:\n",
        "  tests.append((\"Status code 200/204\", test_success))\n",
        "  latency_report[\"DeleteResult\"] = response.elapsed.microseconds / 1000\n",
        "else:\n",
        "  tests.append((\"Status code 200/204\", test_fail))\n",
        "  print(json.dumps(response.json(), indent=2))\n",
        "\n",
        "\n",
        "print(tabulate(tests, headers=test_headers))\n",
        "\n",
        "report_card[\"DeleteResult\"] = tests"
      ],
      "metadata": {
        "id": "dB4KEXAGjRuv",
        "cellView": "form"
      },
      "execution_count": null,
      "outputs": []
    },
    {
      "cell_type": "code",
      "source": [
        "#@title GetResultsForLineItem (Deleted)\n",
        "url = f\"{one_roster_url}/classes/{class_sourced_id}/lineItems/{line_item_sourced_id}/results?limit=10000\"\n",
        "\n",
        "response = requests.request(\"GET\", url, headers=request_headers)\n",
        "latency_report[\"GetResultsForLineItem (Deleted)\"] = (\n",
        "    response.elapsed.microseconds / 1000\n",
        ")\n",
        "data = response.json()\n",
        "\n",
        "tests = []\n",
        "if not any(sd[\"sourcedId\"] == result_sourced_id for sd in data[\"results\"]):\n",
        "  tests.append((\"Result deleted\", test_success))\n",
        "else:\n",
        "  tests.append((\"Result deleted\", test_fail))\n",
        "  print(json.dumps(data, indent=2))\n",
        "\n",
        "\n",
        "print(tabulate(tests, headers=test_headers))\n",
        "\n",
        "report_card[\"GetResultsForLineItem (Deleted)\"] = tests"
      ],
      "metadata": {
        "id": "j9kl10ivjRxJ",
        "cellView": "form"
      },
      "execution_count": null,
      "outputs": []
    },
    {
      "cell_type": "code",
      "source": [
        "#@title DeleteLineItem (Optional / Cleanup)\n",
        "url = f\"{one_roster_url}/lineItems/{line_item_sourced_id}\"\n",
        "\n",
        "response = requests.request(\"DELETE\", url, headers=request_headers)\n",
        "latency_report[\"DeleteLineItem\"] = response.elapsed.microseconds / 1000\n",
        "\n",
        "tests = []\n",
        "if response.status_code == 200 or response.status_code == 204:\n",
        "  tests.append((\"Status code 200/204\", test_success))\n",
        "else:\n",
        "  tests.append((\"Status code 200/204\", test_fail))\n",
        "  print(json.dumps(response.json(), indent=2))\n",
        "\n",
        "\n",
        "print(tabulate(tests, headers=test_headers))\n",
        "\n",
        "report_card[\"DeleteLineItem\"] = tests"
      ],
      "metadata": {
        "id": "QkwC8jDHnmpN",
        "cellView": "form"
      },
      "execution_count": null,
      "outputs": []
    },
    {
      "cell_type": "code",
      "source": [
        "#@title GetLineItemsForClass (Deleted)\n",
        "url = f\"{one_roster_url}/classes/{class_sourced_id}/lineItems?limit=10000\"\n",
        "\n",
        "response = requests.request(\"GET\", url, headers=request_headers)\n",
        "latency_report[\"GetLineItemsForClass (Deleted)\"] = (\n",
        "    response.elapsed.microseconds / 1000\n",
        ")\n",
        "data = response.json()\n",
        "\n",
        "tests = []\n",
        "if not any(sd[\"sourcedId\"] == line_item_sourced_id for sd in data[\"lineItems\"]):\n",
        "  tests.append((\"Line item deleted\", test_success))\n",
        "else:\n",
        "  tests.append((\"Line item deleted\", test_fail))\n",
        "  print(json.dumps(data, indent=2))\n",
        "\n",
        "\n",
        "print(tabulate(tests, headers=test_headers))\n",
        "\n",
        "report_card[\"GetLineItemsForClass (Deleted)\"] = tests"
      ],
      "metadata": {
        "id": "ZaXlwowfnmsA",
        "cellView": "form"
      },
      "execution_count": null,
      "outputs": []
    },
    {
      "cell_type": "code",
      "source": [
        "#@title Print Report\n",
        "\n",
        "table_data = []\n",
        "for test_name, results in report_card.items():\n",
        "  for result in results:\n",
        "    table_data.append((test_name, result[0], result[1]))\n",
        "\n",
        "print(tabulate(table_data, headers=[\"Test Name\", \"Result\", \"Outcome\"]))\n",
        "\n",
        "print(\"\\n\")\n",
        "print(tabulate(latency_report.items(), headers=[\"Test Name\", \"Latency (ms)\"]))"
      ],
      "metadata": {
        "cellView": "form",
        "id": "yqhfL2FT7DBw"
      },
      "execution_count": null,
      "outputs": []
    },
    {
      "cell_type": "markdown",
      "source": [
        "# **Grading Categories** [Required]\n",
        "\n",
        "*Only one GET categories endpoint is needed. Please comment out any that are not implemented in order for `run all` to execute successfully.*"
      ],
      "metadata": {
        "id": "NIJUWuzWpGUh"
      }
    },
    {
      "cell_type": "code",
      "source": [
        "#@title GetAllCategories\n",
        "url = f\"{one_roster_url}/categories?limit=10000\"\n",
        "\n",
        "response = requests.request(\"GET\", url, headers=request_headers, data=payload)\n",
        "latency_report[\"GetAllCategories\"] = response.elapsed.microseconds / 1000\n",
        "data = response.json()\n",
        "\n",
        "tests = []\n",
        "if response.status_code == 200:\n",
        "  tests.append((\"Status code 200\", test_success))\n",
        "  category_sourced_id = data[\"categories\"][0][\"sourcedId\"]\n",
        "else:\n",
        "  tests.append((\"Status code 200\", test_fail))\n",
        "  print(json.dumps(response.json(), indent=2))\n",
        "\n",
        "\n",
        "print(tabulate(tests, headers=test_headers))\n",
        "\n",
        "report_card[\"GetAllCategories\"] = tests"
      ],
      "metadata": {
        "id": "3uE9MR--pVpI",
        "cellView": "form"
      },
      "execution_count": null,
      "outputs": []
    },
    {
      "cell_type": "code",
      "source": [
        "#@title GetCategoriesForClass\n",
        "url = f\"{one_roster_url}/classes/{class_sourced_id}/categories?limit=10000\"\n",
        "\n",
        "response = requests.request(\"GET\", url, headers=request_headers, data=payload)\n",
        "latency_report[\"GetCategoriesForClass\"] = response.elapsed.microseconds / 1000\n",
        "data = response.json()\n",
        "\n",
        "tests = []\n",
        "if response.status_code == 200:\n",
        "  tests.append((\"Status code 200\", test_success))\n",
        "  category_sourced_id = data[\"categories\"][0][\"sourcedId\"]\n",
        "else:\n",
        "  tests.append((\"Status code 200\", test_fail))\n",
        "  print(json.dumps(response.json(), indent=2))\n",
        "\n",
        "\n",
        "print(tabulate(tests, headers=test_headers))\n",
        "\n",
        "report_card[\"GetCategoriesForClass\"] = tests"
      ],
      "metadata": {
        "id": "Ejuc9db3uIjE",
        "cellView": "form"
      },
      "execution_count": null,
      "outputs": []
    },
    {
      "cell_type": "code",
      "source": [
        "#@title PutLineItem w/ category\n",
        "line_item_sourced_id = str(uuid.uuid4())\n",
        "\n",
        "url = f\"{one_roster_url}/lineItems/{line_item_sourced_id}\"\n",
        "\n",
        "payload = json.dumps(\n",
        "    {\n",
        "        \"lineItem\": {\n",
        "            \"sourcedId\": line_item_sourced_id,\n",
        "            \"title\": \"Google Test Line Item Title\",\n",
        "            \"description\": \"Test Line Item\",\n",
        "            \"resultValueMin\": 0,\n",
        "            \"resultValueMax\": 100,\n",
        "            \"assignDate\": assign_date,\n",
        "            \"dueDate\": due_date,\n",
        "            \"category\": {\"sourcedId\": category_sourced_id},\n",
        "            \"class\": {\"sourcedId\": class_sourced_id},\n",
        "        }\n",
        "    }\n",
        ")\n",
        "\n",
        "response = requests.request(\n",
        "    \"PUT\", url, headers=put_request_headers, data=payload\n",
        ")\n",
        "latency_report[\"PutLineItem w/ Category\"] = response.elapsed.microseconds / 1000\n",
        "\n",
        "tests = []\n",
        "if response.status_code == 201:\n",
        "  tests.append((\"Status code 201\", test_success))\n",
        "  print(f\"Created line item with sourced ID {line_item_sourced_id}\\n\")\n",
        "else:\n",
        "  tests.append((\"Status code 201\", test_fail))\n",
        "  print(json.dumps(response.json(), indent=2))\n",
        "\n",
        "\n",
        "print(tabulate(tests, headers=test_headers))\n",
        "\n",
        "report_card[\"PutLineItem w/ Category\"] = tests"
      ],
      "metadata": {
        "id": "poJ4jK3GuIlm",
        "cellView": "form"
      },
      "execution_count": null,
      "outputs": []
    },
    {
      "cell_type": "code",
      "source": [
        "#@title GetLineItemsForClass (Category exists)\n",
        "url = f\"{one_roster_url}/classes/{class_sourced_id}/lineItems?limit=10000\"\n",
        "\n",
        "response = requests.request(\"GET\", url, headers=request_headers)\n",
        "latency_report[\"GetLineItemsForClass (Category exists)\"] = (\n",
        "    response.elapsed.microseconds / 1000\n",
        ")\n",
        "data = response.json()\n",
        "\n",
        "tests = []\n",
        "\n",
        "for d in data[\"lineItems\"]:\n",
        "  if d[\"sourcedId\"] == line_item_sourced_id:\n",
        "    if d and d[\"category\"][\"sourcedId\"] == category_sourced_id:\n",
        "      tests.append((\"Line item created with category\", test_success))\n",
        "    else:\n",
        "      tests.append((\"Line item created with category\", test_fail))\n",
        "      print(json.dumps(d, indent=2))\n",
        "    break\n",
        "\n",
        "\n",
        "print(tabulate(tests, headers=test_headers))\n",
        "\n",
        "report_card[\"GetLineItemsForClass (Category exists)\"] = tests"
      ],
      "metadata": {
        "id": "6xjPKc2GuIog",
        "cellView": "form"
      },
      "execution_count": null,
      "outputs": []
    },
    {
      "cell_type": "code",
      "source": [
        "#@title DeleteLineItem (Optional / Cleanup)\n",
        "url = f\"{one_roster_url}/lineItems/{line_item_sourced_id}\"\n",
        "\n",
        "response = requests.request(\"DELETE\", url, headers=request_headers)\n",
        "\n",
        "tests = []\n",
        "if response.status_code == 200 or response.status_code == 204:\n",
        "  tests.append((\"Status code 200/204\", test_success))\n",
        "else:\n",
        "  tests.append((\"Status code 200/204\", test_fail))\n",
        "  print(json.dumps(response.json(), indent=2))\n",
        "\n",
        "\n",
        "print(tabulate(tests, headers=test_headers))"
      ],
      "metadata": {
        "id": "YEPRphAFuIq5",
        "cellView": "form"
      },
      "execution_count": null,
      "outputs": []
    },
    {
      "cell_type": "code",
      "source": [
        "#@title Print Report\n",
        "\n",
        "table_data = []\n",
        "for test_name, results in report_card.items():\n",
        "  for result in results:\n",
        "    table_data.append((test_name, result[0], result[1]))\n",
        "\n",
        "print(tabulate(table_data, headers=[\"Test Name\", \"Result\", \"Outcome\"]))\n",
        "\n",
        "print(\"\\n\")\n",
        "print(tabulate(latency_report.items(), headers=[\"Test Name\", \"Latency (ms)\"]))"
      ],
      "metadata": {
        "cellView": "form",
        "id": "2Hv5Lqmy_4IO"
      },
      "execution_count": null,
      "outputs": []
    },
    {
      "cell_type": "markdown",
      "source": [
        "# **Grading Periods** [Required]"
      ],
      "metadata": {
        "id": "FlLBnm8wxjQv"
      }
    },
    {
      "cell_type": "code",
      "source": [
        "#@title GetAllClasses w/ filter\n",
        "url = f\"{one_roster_url}/classes?filter=sourcedId='{class_sourced_id}'&limit=10000\"\n",
        "\n",
        "response = requests.request(\"GET\", url, headers=request_headers)\n",
        "latency_report[\"GetAllClasses w/ filter\"] = response.elapsed.microseconds / 1000\n",
        "data = response.json()\n",
        "\n",
        "tests = []\n",
        "if response.status_code == 200:\n",
        "  tests.append((\"Status code 200\", test_success))\n",
        "\n",
        "  if len(data[\"classes\"]) == 1 and data[\"classes\"][0].keys() >= {\n",
        "      \"terms\",\n",
        "      \"sourcedId\",\n",
        "  }:\n",
        "    term_sourced_id = data[\"classes\"][0][\"terms\"][0][\"sourcedId\"]\n",
        "    tests.append((\"Validate class\", test_success))\n",
        "  else:\n",
        "    tests.append((\"Validate class\", test_fail))\n",
        "else:\n",
        "  tests.append((\"Status code 200\", test_fail))\n",
        "  print(json.dumps(data, indent=2))\n",
        "\n",
        "\n",
        "print(tabulate(tests, headers=test_headers))\n",
        "\n",
        "report_card[\"GetAllClasses w/ filter\"] = tests"
      ],
      "metadata": {
        "id": "eB3ZbX8ruI5p",
        "cellView": "form"
      },
      "execution_count": null,
      "outputs": []
    },
    {
      "cell_type": "code",
      "source": [
        "#@title GetGradingPeriodsForTerm\n",
        "url = f\"{one_roster_url}/terms/{term_sourced_id}/gradingPeriods?limit=10000\"\n",
        "\n",
        "response = requests.request(\"GET\", url, headers=request_headers)\n",
        "latency_report[\"GetGradingPeriodsForTerm\"] = (\n",
        "    response.elapsed.microseconds / 1000\n",
        ")\n",
        "data = response.json()\n",
        "\n",
        "tests = []\n",
        "if response.status_code == 200:\n",
        "  tests.append((\"Status code 200\", test_success))\n",
        "\n",
        "  if data[\"academicSessions\"][0].keys() >= {\n",
        "      \"sourcedId\",\n",
        "      \"title\",\n",
        "      \"startDate\",\n",
        "      \"endDate\",\n",
        "      \"schoolYear\",\n",
        "  }:\n",
        "    tests.append((\"Validate grading period\", test_success))\n",
        "  else:\n",
        "    tests.append((\"Validate grading period\", test_fail))\n",
        "\n",
        "  tests.append((\"Academic sessions all grading period types\", test_success))\n",
        "  for d in data[\"academicSessions\"]:\n",
        "    if d[\"type\"] != \"gradingPeriod\":\n",
        "      tests.append((\"Academic sessions all grading period types\", test_fail))\n",
        "      print(json.dumps(d, indent=2))\n",
        "      break\n",
        "else:\n",
        "  tests.append((\"Status code 200\", test_fail))\n",
        "  print(json.dumps(data, indent=2))\n",
        "\n",
        "\n",
        "print(tabulate(tests, headers=test_headers))\n",
        "\n",
        "report_card[\"GetGradingPeriodsForTerm\"] = tests"
      ],
      "metadata": {
        "id": "Q8rEd1tH2H_Y",
        "cellView": "form"
      },
      "execution_count": null,
      "outputs": []
    },
    {
      "cell_type": "code",
      "source": [
        "#@title Print Report\n",
        "\n",
        "table_data = []\n",
        "for test_name, results in report_card.items():\n",
        "  for result in results:\n",
        "    table_data.append((test_name, result[0], result[1]))\n",
        "\n",
        "print(tabulate(table_data, headers=[\"Test Name\", \"Result\", \"Outcome\"]))\n",
        "\n",
        "print(\"\\n\")\n",
        "print(tabulate(latency_report.items(), headers=[\"Test Name\", \"Latency (ms)\"]))"
      ],
      "metadata": {
        "cellView": "form",
        "id": "SLe76ajf__N5"
      },
      "execution_count": null,
      "outputs": []
    }
  ]
}
